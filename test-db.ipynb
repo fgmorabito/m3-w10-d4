{
 "cells": [
  {
   "cell_type": "code",
   "execution_count": 43,
   "id": "1d94718e-bce5-4a63-8cb2-363a6405555a",
   "metadata": {},
   "outputs": [
    {
     "name": "stdout",
     "output_type": "stream",
     "text": [
      "username è uguale a: studente_dapt\n",
      "sono collegato al database!\n",
      "   ProductKey ProductAlternateKey ProductSubcategoryKey WeightUnitMeasureCode  \\\n",
      "0           1             AR-5381                  None                  None   \n",
      "1           2             BA-8327                  None                  None   \n",
      "2           3             BE-2349                  None                  None   \n",
      "3           4             BE-2908                  None                  None   \n",
      "4           5             BL-2036                  None                  None   \n",
      "\n",
      "  SizeUnitMeasureCode     EnglishProductName SpanishProductName  \\\n",
      "0                None        Adjustable Race                      \n",
      "1                None           Bearing Ball                      \n",
      "2                None        BB Ball Bearing                      \n",
      "3                None  Headset Ball Bearings                      \n",
      "4                None                  Blade                      \n",
      "\n",
      "  FrenchProductName StandardCost  FinishedGoodsFlag  ... ChineseDescription  \\\n",
      "0                           None                  0  ...               None   \n",
      "1                           None                  0  ...               None   \n",
      "2                           None                  0  ...               None   \n",
      "3                           None                  0  ...               None   \n",
      "4                           None                  0  ...               None   \n",
      "\n",
      "   ArabicDescription  HebrewDescription ThaiDescription GermanDescription  \\\n",
      "0               None               None            None              None   \n",
      "1               None               None            None              None   \n",
      "2               None               None            None              None   \n",
      "3               None               None            None              None   \n",
      "4               None               None            None              None   \n",
      "\n",
      "  JapaneseDescription TurkishDescription  StartDate EndDate   Status  \n",
      "0                None               None 2003-07-01    None  Current  \n",
      "1                None               None 2003-07-01    None  Current  \n",
      "2                None               None 2003-07-01    None  Current  \n",
      "3                None               None 2003-07-01    None  Current  \n",
      "4                None               None 2003-07-01    None  Current  \n",
      "\n",
      "[5 rows x 36 columns]\n"
     ]
    }
   ],
   "source": [
    "#!pip install pymysql sqlalchemy python-dotenv pandas\n",
    "\n",
    "import os\n",
    "import dotenv\n",
    "import sqlalchemy\n",
    "import pandas as pd\n",
    "\n",
    "#carico il file di configurazione\n",
    "#dotenv.load_dotenv(\"config_env.txt\")\n",
    "dotenv.load_dotenv(override = True, dotenv_path = \"config_env.txt\") #caricamento del file .env\n",
    "\n",
    "\n",
    "#recupero i dati al suo interno e li inserisco dentro le variabile nello script\n",
    "username = os.getenv(\"username\")\n",
    "password = os.getenv(\"password\")\n",
    "hostname = os.getenv(\"host\")\n",
    "dbname = os.getenv(\"dbname\")\n",
    "\n",
    "print(\"username è uguale a:\",username)\n",
    "\n",
    "#costruire la connessione (stringa)\n",
    "connection_string = f\"mysql+pymysql://{username}:{password}@{hostname}/{dbname}\"\n",
    "\n",
    "try:\n",
    "    #provo a creare un motore di connessione \n",
    "    db_engine =sqlalchemy.create_engine(connection_string)\n",
    "    #o siamo connessi o andiamo in errore\n",
    "    print(\"sono collegato al database!\") \n",
    "    query = \"SELECT * FROM dimproduct LIMIT 5\" #stringa che contiene un'interrogazione SQL\n",
    "    #utilizziamo pandas per leggere il result set del mio statement SQL\n",
    "    tabella = pd.read_sql(query, db_engine)\n",
    "    print(tabella)\n",
    "\n",
    "except Exception as e:\n",
    "    #se non ci riesco lancio un eccezione\n",
    "    print(\"Errore generico sul db\")\n",
    "\n",
    "\n",
    "\n",
    "\n"
   ]
  },
  {
   "cell_type": "code",
   "execution_count": null,
   "id": "81d575ac-6f9b-450a-9060-cf96fef28161",
   "metadata": {},
   "outputs": [],
   "source": []
  }
 ],
 "metadata": {
  "kernelspec": {
   "display_name": "Python [conda env:base] *",
   "language": "python",
   "name": "conda-base-py"
  },
  "language_info": {
   "codemirror_mode": {
    "name": "ipython",
    "version": 3
   },
   "file_extension": ".py",
   "mimetype": "text/x-python",
   "name": "python",
   "nbconvert_exporter": "python",
   "pygments_lexer": "ipython3",
   "version": "3.12.7"
  }
 },
 "nbformat": 4,
 "nbformat_minor": 5
}
